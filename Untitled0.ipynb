{
  "nbformat": 4,
  "nbformat_minor": 0,
  "metadata": {
    "colab": {
      "provenance": []
    },
    "kernelspec": {
      "name": "python3",
      "display_name": "Python 3"
    },
    "language_info": {
      "name": "python"
    }
  },
  "cells": [
    {
      "cell_type": "markdown",
      "source": [
        "# Câu 1: Python dùng để làm gì\n",
        "    - Phát triển web\n",
        "    - Phân tích dữ liệu và khoa học dữ liệu\n",
        "    - Học máy (Machine Learning) và trí tuệ nhân tạo (AI)\n",
        "    - Phát triển game\n",
        "    - Phát triển ứng dụng desktop\n",
        "# Câu 2: Hãy so sánh đặc điểm của Python với ngôn ngữ C++\n",
        "    - Python phù hợp cho các dự án cần phát triển nhanh, dễ bảo trì, hoặc các ứng dụng không yêu cầu tối ưu hóa cao về hiệu suất, chẳng hạn như phân tích dữ liệu, khoa học dữ liệu, và tự động hóa.\n",
        "    - C++ phù hợp cho các ứng dụng yêu cầu hiệu suất cao, kiểm soát tài nguyên chặt chẽ, và độ trễ thấp, như trong lập trình hệ thống, game và phần mềm nhúng.\n",
        "# Câu 3:  Python là ngôn ngữ biên dịch hay thông dịch? Vì sao?\n",
        "    - Python là ngôn ngữ thông dịch.\n",
        "    - Vì Python không biên dịch mã nguồn trước thành mã máy mà thực thi trực tiếp từng dòng thông qua trình thông dịch,"
      ],
      "metadata": {
        "id": "xjpy4W0g_K6I"
      }
    },
    {
      "cell_type": "code",
      "source": [
        "a =3;#Khai báo biến\n",
        "b =5;\n",
        "print(a+b);#khai báo toán tử\n",
        "a = 3;#int\n",
        "b = 0.1;#float\n",
        "c = \"sss\";#chuỗi\n"
      ],
      "metadata": {
        "colab": {
          "base_uri": "https://localhost:8080/",
          "height": 106
        },
        "id": "uF-EVa6FAcsz",
        "outputId": "02991b5d-ce6a-44f2-b368-2f0c771ffad4"
      },
      "execution_count": 3,
      "outputs": [
        {
          "output_type": "error",
          "ename": "SyntaxError",
          "evalue": "invalid syntax (<ipython-input-3-0b6758e71c8e>, line 3)",
          "traceback": [
            "\u001b[0;36m  File \u001b[0;32m\"<ipython-input-3-0b6758e71c8e>\"\u001b[0;36m, line \u001b[0;32m3\u001b[0m\n\u001b[0;31m    //Khai báo toán tử\u001b[0m\n\u001b[0m    ^\u001b[0m\n\u001b[0;31mSyntaxError\u001b[0m\u001b[0;31m:\u001b[0m invalid syntax\n"
          ]
        }
      ]
    }
  ]
}